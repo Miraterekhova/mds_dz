{
 "cells": [
  {
   "cell_type": "markdown",
   "metadata": {},
   "source": [
    "# Домашнее задание \"Теория вероятности. Дискретные Случайные Величины\"."
   ]
  },
  {
   "cell_type": "markdown",
   "metadata": {},
   "source": [
    "# Уровень 0:\n",
    "- Задание 1:\n",
    "Монетку подбрасывают 15 раз, найдите вероятность выпадения простого числа орлов.\n",
    "- Задание 2:\n",
    "Создайте свою дискретную случайную величину с не менее, чем 10 значениями. Просемплируйте 1000 случайных значений, постройте гистограмму плотности распределения по выборке, посчитайте среднее, дисперсию и медиану."
   ]
  },
  {
   "cell_type": "code",
   "execution_count": 3,
   "metadata": {},
   "outputs": [],
   "source": [
    "import math"
   ]
  },
  {
   "cell_type": "code",
   "execution_count": 23,
   "metadata": {},
   "outputs": [],
   "source": [
    "n = 15\n",
    "k = [2, 3, 5, 7, 11, 13]"
   ]
  },
  {
   "cell_type": "code",
   "execution_count": 27,
   "metadata": {},
   "outputs": [
    {
     "name": "stdout",
     "output_type": "stream",
     "text": [
      "Вероятность выпадения простого числа орлов при 15 подбрасываниях равна 35.0 %\n"
     ]
    }
   ],
   "source": [
    "C_nk = 0\n",
    "for p in k:\n",
    "    C_nk += math.factorial(n)/(math.factorial(p)* math.factorial(n-p)) # формула бернули\n",
    "    \n",
    "print(f'Вероятность выпадения простого числа орлов при 15 подбрасываниях равна {round(C_nk * 100 / 2**n, 0)} %')"
   ]
  },
  {
   "cell_type": "code",
   "execution_count": 18,
   "metadata": {},
   "outputs": [],
   "source": [
    "import numpy as np"
   ]
  },
  {
   "cell_type": "code",
   "execution_count": 40,
   "metadata": {},
   "outputs": [
    {
     "data": {
      "text/plain": [
       "array([[593, 447, 640, ..., 151, 858, 680],\n",
       "       [298, 530, 373, ..., 641, 312, 224],\n",
       "       [ 38,  80, 855, ..., 739, 917, 784],\n",
       "       ...,\n",
       "       [231,  93,  58, ..., 951, 437, 684],\n",
       "       [666, 262,   1, ...,  65, 849,  95],\n",
       "       [356, 284, 178, ..., 753, 633, 383]])"
      ]
     },
     "execution_count": 40,
     "metadata": {},
     "output_type": "execute_result"
    }
   ],
   "source": [
    "c = np.random.randint(1000, size=(10, 1000))\n",
    "c"
   ]
  },
  {
   "cell_type": "code",
   "execution_count": 41,
   "metadata": {},
   "outputs": [],
   "source": [
    "import matplotlib.pyplot as plt"
   ]
  },
  {
   "cell_type": "code",
   "execution_count": 48,
   "metadata": {},
   "outputs": [
    {
     "data": {
      "text/plain": [
       "(array([[1., 1., 3., ..., 0., 1., 0.],\n",
       "        [2., 0., 2., ..., 0., 1., 2.],\n",
       "        [2., 1., 0., ..., 1., 2., 0.],\n",
       "        ...,\n",
       "        [2., 1., 0., ..., 3., 0., 1.],\n",
       "        [0., 1., 0., ..., 0., 3., 2.],\n",
       "        [1., 0., 1., ..., 3., 1., 0.]]),\n",
       " array([  0. ,  99.9, 199.8, 299.7, 399.6, 499.5, 599.4, 699.3, 799.2,\n",
       "        899.1, 999. ]),\n",
       " <a list of 1000 Lists of Patches objects>)"
      ]
     },
     "execution_count": 48,
     "metadata": {},
     "output_type": "execute_result"
    },
    {
     "data": {
      "image/png": "[encoded data removed]",
      "text/plain": [
       "<Figure size 432x288 with 1 Axes>"
      ]
     },
     "metadata": {
      "needs_background": "light"
     },
     "output_type": "display_data"
    }
   ],
   "source": [
    "plt.hist(c)"
   ]
  },
  {
   "cell_type": "code",
   "execution_count": 49,
   "metadata": {},
   "outputs": [
    {
     "data": {
      "text/plain": [
       "503.1378"
      ]
     },
     "execution_count": 49,
     "metadata": {},
     "output_type": "execute_result"
    }
   ],
   "source": [
    "# рассчитаем среднее \n",
    "average = np.mean(c)\n",
    "average"
   ]
  },
  {
   "cell_type": "code",
   "execution_count": 50,
   "metadata": {},
   "outputs": [
    {
     "data": {
      "text/plain": [
       "504.0"
      ]
     },
     "execution_count": 50,
     "metadata": {},
     "output_type": "execute_result"
    }
   ],
   "source": [
    "# рассчитаем медиану\n",
    "median = np.median(c)\n",
    "median"
   ]
  },
  {
   "cell_type": "code",
   "execution_count": 51,
   "metadata": {},
   "outputs": [
    {
     "data": {
      "text/plain": [
       "83961.14221116"
      ]
     },
     "execution_count": 51,
     "metadata": {},
     "output_type": "execute_result"
    }
   ],
   "source": [
    "# рассчитаем дисперсию\n",
    "var = np.var(c)\n",
    "var"
   ]
  },
  {
   "cell_type": "markdown",
   "metadata": {},
   "source": [
    "# Уровень 1:\n",
    "- Задание 3:\n",
    "Пусть брошены 3 уравновешенные монеты.\n",
    "\n",
    "Рассмотрим 3 события:\n",
    "\n",
    "A1 - монеты 1 и 2 упали одной и той же стороной;\n",
    "\n",
    "A2 - монеты 2 и 3 упали одной и той же стороной;\n",
    "\n",
    "A3 - монеты 1 и 3 упали одной и той же стороной.\n",
    "\n",
    "Покажите, почему эти 3 события (A1, A2, A3) являются попарно независимыми, но не являются независимыми в совокупности.\n",
    "\n",
    "- Задание 4 (формула полной вероятности):\n",
    "В магазин привезли устройства с 3-х разных предприятий.\n",
    "\n",
    "Соотношение устройств следующее: 20% - продукция первого предприятия, 30% - продукция второго предприятия, 50% - продукция третьего предприятия; далее, 10% продукции первого предприятия высшего сорта, на втором предприятии - 5% и на третьем - 20% продукции высшего сорта.\n",
    "\n",
    "Найти вероятность того, что случайно купленная новая продукция окажется высшего сорта."
   ]
  },
  {
   "cell_type": "code",
   "execution_count": 56,
   "metadata": {},
   "outputs": [],
   "source": [
    "# запишем возможные варианты выпадения\n",
    "list_ = ['ООО', 'РРР', 'ОРР', 'ОРО', 'РОО', 'РОР', 'РРО', 'ООР'] # нам благоприятствуют 4 события (т к во всех случаях 2 монетки должны упасть одной стороной)"
   ]
  },
  {
   "cell_type": "code",
   "execution_count": 55,
   "metadata": {},
   "outputs": [
    {
     "data": {
      "text/plain": [
       "0.125"
      ]
     },
     "execution_count": 55,
     "metadata": {},
     "output_type": "execute_result"
    }
   ],
   "source": [
    "monet = (1/2) ** 3\n",
    "monet # вероятность выпадения какого"
   ]
  },
  {
   "cell_type": "code",
   "execution_count": 61,
   "metadata": {},
   "outputs": [
    {
     "data": {
      "text/plain": [
       "0.5"
      ]
     },
     "execution_count": 61,
     "metadata": {},
     "output_type": "execute_result"
    }
   ],
   "source": [
    "p = 4 * monet\n",
    "p # вероятность события А1, А2 и А3 равны, а попарная вер-ть каждых из 2ух равна 0.5*0.5=0.25, всех трех 0.25*0.5=0.125"
   ]
  },
  {
   "cell_type": "code",
   "execution_count": 64,
   "metadata": {},
   "outputs": [],
   "source": [
    "# задача 4\n",
    "# для начала выразим в % соотношение распределение продукции по предприятиям\n",
    "p_A1 = 0.2\n",
    "p_A2 = 0.3\n",
    "p_A3 = 0.5\n",
    "# выразим в % соотношению ко все продукции продукцию высшего сорта от каждого предприятия\n",
    "P_A1 = 0.1\n",
    "P_A2 = 0.05\n",
    "P_A3 = 0.2\n",
    "# найдем искомую вероятность\n",
    "p = p_A1*P_A1 + p_A2*P_A2 + p_A3*P_A3"
   ]
  },
  {
   "cell_type": "code",
   "execution_count": 65,
   "metadata": {},
   "outputs": [
    {
     "name": "stdout",
     "output_type": "stream",
     "text": [
      "Вероятность того, что случайно купленная новая продукция окажется высшего сорта 14 %\n"
     ]
    }
   ],
   "source": [
    "print(f'Вероятность того, что случайно купленная новая продукция окажется высшего сорта {round(p * 100)} %')"
   ]
  }
 ],
 "metadata": {
  "kernelspec": {
   "display_name": "Python 3",
   "language": "python",
   "name": "python3"
  },
  "language_info": {
   "codemirror_mode": {
    "name": "ipython",
    "version": 3
   },
   "file_extension": ".py",
   "mimetype": "text/x-python",
   "name": "python",
   "nbconvert_exporter": "python",
   "pygments_lexer": "ipython3",
   "version": "3.8.3"
  }
 },
 "nbformat": 4,
 "nbformat_minor": 4
}
