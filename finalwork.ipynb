{
 "cells": [
  {
   "cell_type": "markdown",
   "metadata": {},
   "source": [
    "# Итоговая работа."
   ]
  },
  {
   "cell_type": "code",
   "execution_count": 1,
   "metadata": {},
   "outputs": [],
   "source": [
    "import matplotlib.pyplot as plt\n",
    "import numpy as np\n",
    "\n",
    "from scipy.optimize import minimize\n",
    "%matplotlib inline"
   ]
  },
  {
   "cell_type": "markdown",
   "metadata": {},
   "source": [
    "### Задание 1\n",
    "Дана матрица рейтингов фильмов (строки - пользователи (10 человек), столбцы - фильмы (15 фильмов))"
   ]
  },
  {
   "cell_type": "code",
   "execution_count": 2,
   "metadata": {},
   "outputs": [],
   "source": [
    "raitings = np.array([[ 4,  4,  9,  4,  1,  6, 10,  7,  9,  6,  9,  2,  8,  6,  6],\n",
    "                     [ 9,  2,  5, 10,  7,  8, 10,  5,  6,  2,  1,  6,  8,  9,  7],\n",
    "                     [ 1,  6,  8,  8,  4,  9,  3,  8, 10,  5,  2,  6,  8,  1,  6],\n",
    "                     [ 6,  1,  9,  7,  7,  9,  2,  3,  5,  1,  6,  6,  3,  2,  7],\n",
    "                     [ 3,  7,  3,  5,  7,  9,  9,  6,  2,  9,  1,  2,  8, 10,  6],\n",
    "                     [ 8,  3,  7,  3,  8,  6,  1,  8,  8,  6,  1,  9,  4, 10,  1],\n",
    "                     [ 9,  8,  4,  8,  8, 10,  6,  1,  1,  2,  9,  5,  2,  7,  2],\n",
    "                     [ 4,  1,  6,  4,  3, 10,  4,  4,  2,  8,  7,  9,  3,  8,  3],\n",
    "                     [ 2,  7,  7,  6, 10,  6,  8,  9,  8,  6, 10,  1,  7, 10,  4],\n",
    "                     [ 5, 10,  8,  8,  9,  7,  2,  9,  9, 10,  8,  8,  8,  6, 10]])"
   ]
  },
  {
   "cell_type": "markdown",
   "metadata": {},
   "source": [
    "a) Необходимо найти наиболее похожего пользователя по косинусной метрике для каждого из (ответ: 10 пар вида (x, y), где y - наиболее похожий пользователь на пользователя x)."
   ]
  },
  {
   "cell_type": "code",
   "execution_count": 12,
   "metadata": {},
   "outputs": [
    {
     "data": {
      "text/plain": [
       "array([[0.        , 0.17397081, 0.15078471, 0.21659884, 0.18082368,\n",
       "        0.25881452, 0.27264172, 0.19032478, 0.08934018, 0.13989224],\n",
       "       [0.17397081, 0.        , 0.18765675, 0.15364663, 0.12861948,\n",
       "        0.17286893, 0.17370316, 0.19973997, 0.17473692, 0.18031873],\n",
       "       [0.15078471, 0.18765675, 0.        , 0.15330626, 0.21605701,\n",
       "        0.20902015, 0.32383777, 0.23710448, 0.17887923, 0.08126949],\n",
       "       [0.21659884, 0.15364663, 0.15330626, 0.        , 0.30846591,\n",
       "        0.21334208, 0.16725789, 0.17065333, 0.2229334 , 0.1411313 ],\n",
       "       [0.18082368, 0.12861948, 0.21605701, 0.30846591, 0.        ,\n",
       "        0.2235566 , 0.21799532, 0.18763131, 0.12051523, 0.15425211],\n",
       "       [0.25881452, 0.17286893, 0.20902015, 0.21334208, 0.2235566 ,\n",
       "        0.        , 0.25988199, 0.15548315, 0.19377124, 0.14485092],\n",
       "       [0.27264172, 0.17370316, 0.32383777, 0.16725789, 0.21799532,\n",
       "        0.25988199, 0.        , 0.17330826, 0.18869956, 0.20845282],\n",
       "       [0.19032478, 0.19973997, 0.23710448, 0.17065333, 0.18763131,\n",
       "        0.15548315, 0.17330826, 0.        , 0.2018724 , 0.16317771],\n",
       "       [0.08934018, 0.17473692, 0.17887923, 0.2229334 , 0.12051523,\n",
       "        0.19377124, 0.18869956, 0.2018724 , 0.        , 0.09906203],\n",
       "       [0.13989224, 0.18031873, 0.08126949, 0.1411313 , 0.15425211,\n",
       "        0.14485092, 0.20845282, 0.16317771, 0.09906203, 0.        ]])"
      ]
     },
     "execution_count": 12,
     "metadata": {},
     "output_type": "execute_result"
    }
   ],
   "source": [
    "from sklearn.metrics.pairwise import pairwise_distances\n",
    "A = pairwise_distances(raitings, metric='cosine')\n",
    "A"
   ]
  },
  {
   "cell_type": "code",
   "execution_count": 35,
   "metadata": {
    "scrolled": true
   },
   "outputs": [
    {
     "name": "stdout",
     "output_type": "stream",
     "text": [
      "0 8\n",
      "1 4\n",
      "2 9\n",
      "3 9\n",
      "4 8\n",
      "5 9\n",
      "6 3\n",
      "7 5\n",
      "8 0\n",
      "9 2\n"
     ]
    }
   ],
   "source": [
    "i = 0\n",
    "for x in A:\n",
    "    tmp_n = list(x).index(min(x[np.nonzero(x)]))\n",
    "    print(i, tmp_n)\n",
    "    i += 1"
   ]
  },
  {
   "cell_type": "markdown",
   "metadata": {},
   "source": [
    "\n",
    "b) Предположим, вы захотели сжать признаковые описания пользователя с 15 фильмов, до, скажем, 5-ти признаков, как вы это сделаете?"
   ]
  },
  {
   "cell_type": "code",
   "execution_count": 36,
   "metadata": {},
   "outputs": [
    {
     "data": {
      "text/plain": [
       "PCA(n_components=5)"
      ]
     },
     "execution_count": 36,
     "metadata": {},
     "output_type": "execute_result"
    }
   ],
   "source": [
    "from sklearn.decomposition import PCA\n",
    "pca = PCA(n_components=5)\n",
    "pca.fit(raitings)"
   ]
  },
  {
   "cell_type": "code",
   "execution_count": 41,
   "metadata": {},
   "outputs": [
    {
     "data": {
      "text/plain": [
       "array([[-5.30986101,  1.92919845, -4.93300027,  2.70188013,  5.50497886],\n",
       "       [ 2.87763403,  2.71659559,  1.40592782,  7.26325751, -4.50322291],\n",
       "       [-4.94010408, -6.68861167, -0.94550184,  3.61556661, -0.68969272],\n",
       "       [ 5.14939908, -6.28027284, -4.65978558,  1.09024004, -1.01471112],\n",
       "       [-1.37488691,  7.54357985,  4.00834369,  2.1284001 , -0.16324949],\n",
       "       [ 2.65341956, -3.77075601,  8.58430748, -1.46628319,  1.67401769],\n",
       "       [ 8.61573944,  3.78603335, -4.02721027, -4.37582577, -3.13880277],\n",
       "       [ 5.39658258, -1.0170466 ,  1.01456742, -1.89512837,  6.54883538],\n",
       "       [-5.7843488 ,  5.29857107, -1.48083611, -3.71295542,  0.21312695],\n",
       "       [-7.2835739 , -3.51729118,  1.03318766, -5.34915166, -4.43127987]])"
      ]
     },
     "execution_count": 41,
     "metadata": {},
     "output_type": "execute_result"
    }
   ],
   "source": [
    "pca.transform(raitings)"
   ]
  },
  {
   "cell_type": "code",
   "execution_count": 42,
   "metadata": {},
   "outputs": [
    {
     "data": {
      "text/plain": [
       "TruncatedSVD(n_components=5, random_state=42)"
      ]
     },
     "execution_count": 42,
     "metadata": {},
     "output_type": "execute_result"
    }
   ],
   "source": [
    "from sklearn.decomposition import TruncatedSVD\n",
    "svd = TruncatedSVD(n_components=5, random_state=42)\n",
    "svd.fit(raitings)"
   ]
  },
  {
   "cell_type": "code",
   "execution_count": 43,
   "metadata": {},
   "outputs": [
    {
     "data": {
      "text/plain": [
       "array([[23.41982063, -5.36092136,  3.83196779, -4.06950174,  1.10267269],\n",
       "       [24.76774917,  4.52188701,  1.35815965,  1.58128545,  8.59912002],\n",
       "       [22.27728589, -6.96492049, -4.84461485, -0.47661647,  3.37152266],\n",
       "       [19.4257757 ,  2.64575227, -6.86014009, -4.76604765,  1.96075707],\n",
       "       [22.8146354 ,  0.51464093,  7.70180188,  4.42379773,  1.29124163],\n",
       "       [21.76961656,  1.94294987, -4.56934779,  8.32306487, -2.21887359],\n",
       "       [21.23427453,  9.78047778,  1.16340271, -4.86074521, -2.60815471],\n",
       "       [19.97476815,  4.00048677, -1.67456316,  1.1512346 , -3.5637169 ],\n",
       "       [26.39306998, -3.03090482,  5.86422753, -1.67503491, -3.71500141],\n",
       "       [29.94016844, -4.82012297, -3.48912415,  0.05527083, -3.62526487]])"
      ]
     },
     "execution_count": 43,
     "metadata": {},
     "output_type": "execute_result"
    }
   ],
   "source": [
    "svd.transform(raitings)"
   ]
  },
  {
   "cell_type": "markdown",
   "metadata": {},
   "source": [
    "### Задание 2\n",
    "Вычислите производную $tg^2(sin(x) + cos(2x+3))$ в точке $x_0=1$ (на python и на бумаге)."
   ]
  },
  {
   "cell_type": "code",
   "execution_count": 58,
   "metadata": {},
   "outputs": [],
   "source": [
    "def  f(x): \n",
    "    return np.tan(np.sin(x)+np.cos(2*x+3))**2"
   ]
  },
  {
   "cell_type": "code",
   "execution_count": 60,
   "metadata": {},
   "outputs": [
    {
     "data": {
      "text/plain": [
       "55.3859176464222"
      ]
     },
     "execution_count": 60,
     "metadata": {},
     "output_type": "execute_result"
    }
   ],
   "source": [
    "from scipy.misc import derivative\n",
    "derivative(f, 1, dx=1e-6)"
   ]
  },
  {
   "cell_type": "code",
   "execution_count": 93,
   "metadata": {},
   "outputs": [
    {
     "data": {
      "text/latex": [
       "$\\displaystyle 2 \\left(- 2 \\sin{\\left(2 x + 3 \\right)} + \\cos{\\left(x \\right)}\\right) \\left(\\tan^{2}{\\left(\\sin{\\left(x \\right)} + \\cos{\\left(2 x + 3 \\right)} \\right)} + 1\\right) \\tan{\\left(\\sin{\\left(x \\right)} + \\cos{\\left(2 x + 3 \\right)} \\right)}$"
      ],
      "text/plain": [
       "2*(-2*sin(2*x + 3) + cos(x))*(tan(sin(x) + cos(2*x + 3))**2 + 1)*tan(sin(x) + cos(2*x + 3))"
      ]
     },
     "execution_count": 93,
     "metadata": {},
     "output_type": "execute_result"
    }
   ],
   "source": [
    "from sympy import diff, symbols, cos, sin, tan\n",
    "x = symbols('x')\n",
    "diff(tan(sin(x) + cos(2*x+3))**2)"
   ]
  },
  {
   "cell_type": "markdown",
   "metadata": {},
   "source": [
    "### Задание 3\n",
    "Дана функция с неизвестными параметрами a и b, вам также известны значения функции fx в точках x. Найдите оптимальные параметры a, b, минимизирующие абсолютную ошибку error."
   ]
  },
  {
   "cell_type": "code",
   "execution_count": 103,
   "metadata": {},
   "outputs": [],
   "source": [
    "def f(x, a, b):\n",
    "    return np.e**a * np.sin(b*x) + x"
   ]
  },
  {
   "cell_type": "code",
   "execution_count": 104,
   "metadata": {},
   "outputs": [],
   "source": [
    "x = np.array([0.        , 0.26315789, 0.52631579, 0.78947368, 1.05263158,\n",
    "              1.31578947, 1.57894737, 1.84210526, 2.10526316, 2.36842105,\n",
    "              2.63157895, 2.89473684, 3.15789474, 3.42105263, 3.68421053,\n",
    "              3.94736842, 4.21052632, 4.47368421, 4.73684211, 5.        ])"
   ]
  },
  {
   "cell_type": "code",
   "execution_count": 105,
   "metadata": {},
   "outputs": [],
   "source": [
    "fx = np.array([  0.        , -12.01819092, -18.90968634, -17.68786571,\n",
    "                -8.7529108 ,   4.27524517,  16.06801336,  21.81250213,\n",
    "                19.22059845,   9.48411207,  -3.22273056, -13.48576488,\n",
    "               -16.91096359, -11.95866834,  -0.58630088,  12.56873816,\n",
    "                22.12489421,  24.20292139,  18.04522521,   6.33211092])"
   ]
  },
  {
   "cell_type": "code",
   "execution_count": 106,
   "metadata": {},
   "outputs": [
    {
     "data": {
      "image/png": "[encoded data removed]",
      "text/plain": [
       "<Figure size 432x288 with 1 Axes>"
      ]
     },
     "metadata": {
      "needs_background": "light"
     },
     "output_type": "display_data"
    }
   ],
   "source": [
    "plt.plot(x, fx)\n",
    "plt.show()"
   ]
  },
  {
   "cell_type": "code",
   "execution_count": 107,
   "metadata": {},
   "outputs": [],
   "source": [
    "def error(params):\n",
    "    return np.sum(np.abs(fx - f(x, params[0], params[1])))"
   ]
  },
  {
   "cell_type": "code",
   "execution_count": 109,
   "metadata": {},
   "outputs": [
    {
     "data": {
      "text/plain": [
       "     fun: 0.07674566111565184\n",
       "   maxcv: 0.0\n",
       " message: 'Optimization terminated successfully.'\n",
       "    nfev: 135\n",
       "  status: 1\n",
       " success: True\n",
       "       x: array([ 3.00018796, -2.50008926])"
      ]
     },
     "execution_count": 109,
     "metadata": {},
     "output_type": "execute_result"
    }
   ],
   "source": [
    "from scipy.optimize import minimize\n",
    "res = minimize(error, [0,0],  method='COBYLA')\n",
    "res"
   ]
  },
  {
   "cell_type": "markdown",
   "metadata": {},
   "source": [
    "### Задание 4\n",
    "Создайте собственную дискретную случайную величину с 20 значениями. Сгенерируйте 1000 выборок размера 50. Посчитайте среднее для каждой выборки. Постройте гистограмму распределения средних."
   ]
  },
  {
   "cell_type": "code",
   "execution_count": 130,
   "metadata": {},
   "outputs": [
    {
     "data": {
      "text/plain": [
       "array([9.51134, 9.53088, 9.51424, 9.52434, 9.47576, 9.52896, 9.47318,\n",
       "       9.51786, 9.51146, 9.50828, 9.48974, 9.55358, 9.48604, 9.47168,\n",
       "       9.51772, 9.51132, 9.50232, 9.4618 , 9.46674, 9.46488, 9.51818,\n",
       "       9.54302, 9.47914, 9.53318, 9.48742, 9.50784, 9.48022, 9.50404,\n",
       "       9.48432, 9.4977 , 9.51164, 9.49428, 9.46718, 9.49434, 9.48762,\n",
       "       9.4892 , 9.49326, 9.52784, 9.52134, 9.51946, 9.54718, 9.52688,\n",
       "       9.43904, 9.46038, 9.52894, 9.50422, 9.52364, 9.48458, 9.46742,\n",
       "       9.51238, 9.53084, 9.49142, 9.4534 , 9.50442, 9.54502, 9.52344,\n",
       "       9.48672, 9.51164, 9.4835 , 9.53656, 9.50476, 9.52168, 9.47062,\n",
       "       9.48472, 9.49638, 9.4962 , 9.48692, 9.555  , 9.51706, 9.50936,\n",
       "       9.508  , 9.50002, 9.49932, 9.51276, 9.47998, 9.50288, 9.50638,\n",
       "       9.51388, 9.53048, 9.48636, 9.52674, 9.56126, 9.48642, 9.46368,\n",
       "       9.4797 , 9.49988, 9.51542, 9.5049 , 9.46814, 9.523  , 9.48144,\n",
       "       9.49772, 9.508  , 9.53154, 9.48492, 9.47852, 9.53132, 9.47882,\n",
       "       9.48288, 9.47414, 9.52938, 9.52204, 9.47626, 9.52022, 9.4749 ,\n",
       "       9.50026, 9.46214, 9.52458, 9.50106, 9.53746, 9.48136, 9.50272,\n",
       "       9.49914, 9.5349 , 9.51454, 9.52206, 9.49048, 9.51208, 9.49648,\n",
       "       9.50474, 9.50308, 9.46014, 9.49544, 9.47506, 9.48934, 9.53922,\n",
       "       9.47668, 9.51276, 9.46164, 9.47858, 9.5629 , 9.46808, 9.49826,\n",
       "       9.52984, 9.47708, 9.49494, 9.4849 , 9.49474, 9.45064, 9.50172,\n",
       "       9.48448, 9.52792, 9.55162, 9.52712, 9.50948, 9.49186, 9.47166,\n",
       "       9.50848, 9.51638, 9.51424, 9.49112, 9.4522 , 9.5156 , 9.42872,\n",
       "       9.52652, 9.47104, 9.51188, 9.46722, 9.48828, 9.52974, 9.52334,\n",
       "       9.48992, 9.52648, 9.48934, 9.53216, 9.46284, 9.52008, 9.52946,\n",
       "       9.47956, 9.46044, 9.52084, 9.56712, 9.51492, 9.48064, 9.4928 ,\n",
       "       9.46778, 9.5083 , 9.46094, 9.50162, 9.51176, 9.4929 , 9.51526,\n",
       "       9.4574 , 9.49122, 9.54914, 9.51932, 9.50194, 9.52294, 9.5097 ,\n",
       "       9.51806, 9.547  , 9.51098, 9.4992 , 9.4934 , 9.5175 , 9.52764,\n",
       "       9.49746, 9.51026, 9.46724, 9.50822, 9.50296, 9.50976, 9.54416,\n",
       "       9.54184, 9.5407 , 9.47988, 9.49134, 9.47328, 9.49762, 9.46836,\n",
       "       9.46126, 9.5177 , 9.51584, 9.48774, 9.51216, 9.52696, 9.47594,\n",
       "       9.49672, 9.47518, 9.47744, 9.47954, 9.48748, 9.50942, 9.52688,\n",
       "       9.49356, 9.48456, 9.49874, 9.5337 , 9.50698, 9.5318 , 9.58046,\n",
       "       9.50092, 9.45114, 9.492  , 9.53024, 9.50048, 9.52338, 9.45556,\n",
       "       9.51094, 9.51268, 9.51442, 9.49854, 9.5057 , 9.49522, 9.52428,\n",
       "       9.46788, 9.49912, 9.44826, 9.47932, 9.45896, 9.51718, 9.51554,\n",
       "       9.5171 , 9.51674, 9.49578, 9.48094, 9.50868, 9.50702, 9.4944 ,\n",
       "       9.50066, 9.47668, 9.51048, 9.45244, 9.4654 , 9.53558, 9.52318,\n",
       "       9.52846, 9.46814, 9.47206, 9.47784, 9.54828, 9.51216, 9.4715 ,\n",
       "       9.51212, 9.47122, 9.52856, 9.50364, 9.505  , 9.51986, 9.5414 ,\n",
       "       9.5254 , 9.49774, 9.51408, 9.49422, 9.5216 , 9.49812, 9.44548,\n",
       "       9.51794, 9.47678, 9.5057 , 9.51014, 9.48876, 9.54724, 9.50902,\n",
       "       9.5234 , 9.4787 , 9.43536, 9.54276, 9.54008, 9.4855 , 9.48194,\n",
       "       9.50784, 9.51644, 9.46606, 9.45908, 9.51298, 9.51754, 9.5166 ,\n",
       "       9.51524, 9.486  , 9.50414, 9.51352, 9.54542, 9.52984, 9.48898,\n",
       "       9.5187 , 9.51048, 9.4893 , 9.47634, 9.50878, 9.47122, 9.53052,\n",
       "       9.49502, 9.47764, 9.4979 , 9.57452, 9.47794, 9.50698, 9.51022,\n",
       "       9.50192, 9.52086, 9.47004, 9.48382, 9.50246, 9.45978, 9.5142 ,\n",
       "       9.4971 , 9.47142, 9.43832, 9.5206 , 9.52168, 9.49772, 9.47894,\n",
       "       9.5365 , 9.49092, 9.49452, 9.47904, 9.45788, 9.50524, 9.50158,\n",
       "       9.44456, 9.48288, 9.51258, 9.49048, 9.52024, 9.52862, 9.46414,\n",
       "       9.48258, 9.4807 , 9.4594 , 9.54862, 9.49076, 9.52652, 9.53954,\n",
       "       9.48494, 9.46724, 9.49752, 9.49166, 9.51256, 9.4832 , 9.5056 ,\n",
       "       9.516  , 9.46596, 9.48996, 9.51262, 9.51772, 9.52668, 9.48058,\n",
       "       9.52108, 9.44856, 9.47438, 9.47   , 9.49442, 9.4998 , 9.49378,\n",
       "       9.4971 , 9.49896, 9.52652, 9.51284, 9.4927 , 9.5258 , 9.46806,\n",
       "       9.51858, 9.4684 , 9.49006, 9.46644, 9.47942, 9.5068 , 9.49262,\n",
       "       9.50574, 9.52014, 9.50228, 9.44912, 9.4816 , 9.46782, 9.49066,\n",
       "       9.5396 , 9.48774, 9.50392, 9.50718, 9.4963 , 9.49606, 9.51616,\n",
       "       9.4988 , 9.53176, 9.5108 , 9.43808, 9.55152, 9.4539 , 9.48026,\n",
       "       9.48066, 9.52316, 9.47298, 9.50742, 9.52918, 9.49768, 9.50442,\n",
       "       9.4551 , 9.48354, 9.53062, 9.51426, 9.49344, 9.4869 , 9.44498,\n",
       "       9.45576, 9.49232, 9.5299 , 9.5032 , 9.51666, 9.46672, 9.50074,\n",
       "       9.5007 , 9.4886 , 9.49652, 9.47186, 9.5434 , 9.47338, 9.56286,\n",
       "       9.4968 , 9.50396, 9.48284, 9.5206 , 9.51278, 9.44882, 9.50348,\n",
       "       9.52702, 9.4477 , 9.5346 , 9.52582, 9.49878, 9.46948, 9.43604,\n",
       "       9.51836, 9.49164, 9.54012, 9.50944, 9.47756, 9.50146, 9.51576,\n",
       "       9.4903 , 9.5256 , 9.4721 , 9.47948, 9.5193 , 9.51202, 9.501  ,\n",
       "       9.4554 , 9.53816, 9.4541 , 9.49124, 9.5273 , 9.49262, 9.5052 ,\n",
       "       9.52832, 9.53628, 9.56534, 9.46062, 9.4657 , 9.49128, 9.51346,\n",
       "       9.50524, 9.49922, 9.49868, 9.48744, 9.48284, 9.51448, 9.5043 ,\n",
       "       9.4925 , 9.50576, 9.4841 , 9.50984, 9.4893 , 9.52062, 9.5156 ,\n",
       "       9.48766, 9.5101 , 9.5315 , 9.5458 , 9.47488, 9.50738, 9.55122,\n",
       "       9.49258, 9.4615 , 9.48886, 9.51884, 9.5015 , 9.5068 , 9.47382,\n",
       "       9.42474, 9.53292, 9.50654, 9.5384 , 9.47966, 9.48724, 9.42706,\n",
       "       9.45342, 9.44718, 9.53244, 9.43178, 9.49082, 9.53346, 9.51042,\n",
       "       9.4983 , 9.4685 , 9.53796, 9.51912, 9.56198, 9.53302, 9.52414,\n",
       "       9.50052, 9.5243 , 9.53446, 9.51234, 9.49912, 9.52502, 9.5004 ,\n",
       "       9.46992, 9.49032, 9.50068, 9.5033 , 9.52106, 9.54526, 9.47508,\n",
       "       9.49838, 9.51152, 9.45202, 9.49606, 9.51884, 9.51154, 9.54098,\n",
       "       9.49308, 9.50526, 9.51278, 9.50214, 9.5617 , 9.50424, 9.51046,\n",
       "       9.48362, 9.53674, 9.45778, 9.49858, 9.5104 , 9.48342, 9.49684,\n",
       "       9.50526, 9.47128, 9.5121 , 9.46728, 9.50556, 9.52508, 9.50338,\n",
       "       9.50754, 9.5348 , 9.53604, 9.4429 , 9.48798, 9.51164, 9.4971 ,\n",
       "       9.458  , 9.4545 , 9.49806, 9.4868 , 9.53868, 9.509  , 9.48772,\n",
       "       9.50988, 9.51774, 9.46832, 9.45858, 9.52072, 9.48318, 9.51442,\n",
       "       9.51872, 9.46906, 9.43338, 9.4995 , 9.50504, 9.4748 , 9.54624,\n",
       "       9.49388, 9.4924 , 9.51252, 9.50866, 9.49464, 9.51294, 9.48692,\n",
       "       9.51244, 9.49694, 9.48688, 9.51434, 9.54454, 9.5065 , 9.51022,\n",
       "       9.4735 , 9.49344, 9.51138, 9.51324, 9.49714, 9.48044, 9.53756,\n",
       "       9.54284, 9.52846, 9.5268 , 9.47534, 9.51814, 9.54074, 9.51754,\n",
       "       9.52862, 9.5568 , 9.47354, 9.52684, 9.47686, 9.54864, 9.54298,\n",
       "       9.52576, 9.48148, 9.46392, 9.52102, 9.55768, 9.5149 , 9.48878,\n",
       "       9.53984, 9.53372, 9.46214, 9.47136, 9.4604 , 9.44546, 9.45262,\n",
       "       9.46922, 9.49214, 9.52574, 9.51614, 9.5041 , 9.49102, 9.4683 ,\n",
       "       9.47338, 9.48784, 9.50584, 9.49338, 9.51508, 9.51246, 9.44018,\n",
       "       9.5117 , 9.50934, 9.5338 , 9.5062 , 9.5165 , 9.5082 , 9.51452,\n",
       "       9.46192, 9.4861 , 9.46402, 9.47932, 9.5453 , 9.4546 , 9.51812,\n",
       "       9.50482, 9.48614, 9.50294, 9.46892, 9.48292, 9.5428 , 9.49032,\n",
       "       9.47622, 9.48326, 9.4833 , 9.55808, 9.49202, 9.45912, 9.52694,\n",
       "       9.46086, 9.49846, 9.5105 , 9.46056, 9.56002, 9.4987 , 9.45416,\n",
       "       9.54026, 9.48962, 9.4942 , 9.50484, 9.53912, 9.48784, 9.53622,\n",
       "       9.52706, 9.51714, 9.51004, 9.53318, 9.52286, 9.46362, 9.46942,\n",
       "       9.50068, 9.5054 , 9.47846, 9.51584, 9.51542, 9.51986, 9.4865 ,\n",
       "       9.51666, 9.50672, 9.46076, 9.47178, 9.47608, 9.50274, 9.52858,\n",
       "       9.51898, 9.48644, 9.49996, 9.53292, 9.45808, 9.51912, 9.461  ,\n",
       "       9.53716, 9.5084 , 9.50974, 9.5115 , 9.489  , 9.47358, 9.48622,\n",
       "       9.497  , 9.49068, 9.45344, 9.50422, 9.52496, 9.53888, 9.51924,\n",
       "       9.54058, 9.52548, 9.50924, 9.53386, 9.48726, 9.50216, 9.56072,\n",
       "       9.58202, 9.48604, 9.50274, 9.50646, 9.45146, 9.51986, 9.45904,\n",
       "       9.50414, 9.48776, 9.51554, 9.49878, 9.48044, 9.51502, 9.48174,\n",
       "       9.48546, 9.4991 , 9.46314, 9.53474, 9.5197 , 9.53046, 9.5452 ,\n",
       "       9.47098, 9.50134, 9.5092 , 9.4805 , 9.48062, 9.50424, 9.49154,\n",
       "       9.48102, 9.46452, 9.49504, 9.4861 , 9.48358, 9.45464, 9.4923 ,\n",
       "       9.50646, 9.45974, 9.49058, 9.52634, 9.46706, 9.49568, 9.48632,\n",
       "       9.51048, 9.4875 , 9.54564, 9.48604, 9.53254, 9.46676, 9.46278,\n",
       "       9.52458, 9.49518, 9.50924, 9.51908, 9.46736, 9.4915 , 9.52294,\n",
       "       9.5256 , 9.5112 , 9.47724, 9.53528, 9.47908, 9.50388, 9.46686,\n",
       "       9.50448, 9.5172 , 9.4871 , 9.5333 , 9.52198, 9.49828, 9.4589 ,\n",
       "       9.52924, 9.49492, 9.48996, 9.46618, 9.53918, 9.51232, 9.48184,\n",
       "       9.50362, 9.51172, 9.49006, 9.49598, 9.4819 , 9.46736, 9.47724,\n",
       "       9.50674, 9.53562, 9.48392, 9.5136 , 9.4889 , 9.50852, 9.57266,\n",
       "       9.49056, 9.50764, 9.4368 , 9.51594, 9.54012, 9.59512, 9.47682,\n",
       "       9.5022 , 9.45964, 9.51938, 9.48386, 9.50842, 9.47222, 9.53296,\n",
       "       9.52296, 9.52846, 9.4667 , 9.48936, 9.51746, 9.48902, 9.55996,\n",
       "       9.49994, 9.46362, 9.47786, 9.44652, 9.51774, 9.5334 , 9.49588,\n",
       "       9.51482, 9.51824, 9.50908, 9.4854 , 9.50444, 9.54094, 9.4505 ,\n",
       "       9.4891 , 9.5152 , 9.47406, 9.53356, 9.52602, 9.5163 , 9.51564,\n",
       "       9.47868, 9.52336, 9.50892, 9.472  , 9.47432, 9.48264, 9.49724,\n",
       "       9.5275 , 9.5141 , 9.52662, 9.47038, 9.54032, 9.5057 , 9.48606,\n",
       "       9.47798, 9.50478, 9.4844 , 9.51936, 9.50044, 9.52846, 9.52766,\n",
       "       9.5252 , 9.48228, 9.48694, 9.4746 , 9.53928, 9.47648, 9.50344,\n",
       "       9.48572, 9.49326, 9.51794, 9.53568, 9.50624, 9.50982, 9.46528,\n",
       "       9.50124, 9.5399 , 9.50296, 9.46088, 9.48214, 9.46962, 9.51058,\n",
       "       9.4898 , 9.55204, 9.48984, 9.51866, 9.51088, 9.48348, 9.48716,\n",
       "       9.48874, 9.50868, 9.50746, 9.46924, 9.52046, 9.54096, 9.49564,\n",
       "       9.5021 , 9.49538, 9.49386, 9.48958, 9.47274, 9.4967 , 9.48136,\n",
       "       9.51108, 9.53316, 9.50604, 9.47698, 9.53164, 9.48964, 9.48544,\n",
       "       9.52492, 9.45976, 9.53256, 9.51754, 9.49054, 9.5085 , 9.49314,\n",
       "       9.50418, 9.43134, 9.48282, 9.56578, 9.52118, 9.51058, 9.45298,\n",
       "       9.54294, 9.5178 , 9.49206, 9.52874, 9.482  , 9.48532, 9.52658,\n",
       "       9.4761 , 9.56966, 9.46346, 9.48804, 9.53142, 9.5012 , 9.47928,\n",
       "       9.51152, 9.52344, 9.5191 , 9.45098, 9.48634, 9.50018])"
      ]
     },
     "execution_count": 130,
     "metadata": {},
     "output_type": "execute_result"
    }
   ],
   "source": [
    "n = 50 # размер выборок\n",
    "a = [] # переменная для сохранения средних по выборкам\n",
    "\n",
    "for num in range(1000):\n",
    "    sample = [] # переменная для сохранения выборок\n",
    "    for i in range(n):\n",
    "        sample.append(np.random.randint(0,20,1000))\n",
    "    sample = np.array(sample) # задаем массив\n",
    "    a = np.append(a, sample.mean()) #вычисляем и добавляем среднее по выборкам\n",
    "a"
   ]
  },
  {
   "cell_type": "code",
   "execution_count": 134,
   "metadata": {},
   "outputs": [
    {
     "data": {
      "text/plain": [
       "Text(0.5, 0, 'x')"
      ]
     },
     "execution_count": 134,
     "metadata": {},
     "output_type": "execute_result"
    },
    {
     "data": {
      "image/png": "[encoded data removed]",
      "text/plain": [
       "<Figure size 432x288 with 1 Axes>"
      ]
     },
     "metadata": {
      "needs_background": "light"
     },
     "output_type": "display_data"
    }
   ],
   "source": [
    "import matplotlib.pyplot as plt\n",
    "label_1 = 'sample of histogram'\n",
    "plt.hist(a, density=True, label=label_1)\n",
    "\n",
    "plt.legend()\n",
    "plt.ylabel('samples means')\n",
    "plt.xlabel('x')"
   ]
  },
  {
   "cell_type": "markdown",
   "metadata": {},
   "source": [
    "### Задание 5\n",
    "Найдите собственные значения и собственные вектора матрицы (на python и на бумаге):"
   ]
  },
  {
   "cell_type": "code",
   "execution_count": 135,
   "metadata": {},
   "outputs": [
    {
     "data": {
      "text/plain": [
       "array([[1, 4],\n",
       "       [1, 1]])"
      ]
     },
     "execution_count": 135,
     "metadata": {},
     "output_type": "execute_result"
    }
   ],
   "source": [
    "m = np.array([[1, 4], [1, 1]])\n",
    "m"
   ]
  },
  {
   "cell_type": "code",
   "execution_count": 136,
   "metadata": {},
   "outputs": [
    {
     "name": "stdout",
     "output_type": "stream",
     "text": [
      "Собственные значения вектора m [ 3. -1.]\n",
      "Собственные вектора вектора m [[ 0.89442719 -0.89442719]\n",
      " [ 0.4472136   0.4472136 ]]\n"
     ]
    }
   ],
   "source": [
    "from numpy import linalg as LA\n",
    "w,v = LA.eig(m)\n",
    "print(f'Собственные значения вектора m {w}')\n",
    "print(f'Собственные вектора вектора m {v}')"
   ]
  },
  {
   "cell_type": "code",
   "execution_count": 141,
   "metadata": {},
   "outputs": [
    {
     "ename": "TypeError",
     "evalue": "'DeprecatedImportModule' object is not callable",
     "output_type": "error",
     "traceback": [
      "\u001b[1;31m---------------------------------------------------------------------------\u001b[0m",
      "\u001b[1;31mTypeError\u001b[0m                                 Traceback (most recent call last)",
      "\u001b[1;32m<ipython-input-141-c2f61f20f88b>\u001b[0m in \u001b[0;36m<module>\u001b[1;34m\u001b[0m\n\u001b[0;32m      1\u001b[0m \u001b[1;31m#  |A-λ*I|=0\u001b[0m\u001b[1;33m\u001b[0m\u001b[1;33m\u001b[0m\u001b[1;33m\u001b[0m\u001b[0m\n\u001b[0;32m      2\u001b[0m \u001b[1;31m# |A-λ*I|=|{{1-λ, 4}, {1, 1-λ}}|\u001b[0m\u001b[1;33m\u001b[0m\u001b[1;33m\u001b[0m\u001b[1;33m\u001b[0m\u001b[0m\n\u001b[1;32m----> 3\u001b[1;33m \u001b[0ml\u001b[0m \u001b[1;33m=\u001b[0m \u001b[0msymbol\u001b[0m\u001b[1;33m(\u001b[0m\u001b[1;34m'l'\u001b[0m\u001b[1;33m)\u001b[0m\u001b[1;33m\u001b[0m\u001b[1;33m\u001b[0m\u001b[0m\n\u001b[0m\u001b[0;32m      4\u001b[0m \u001b[0mdiscr\u001b[0m \u001b[1;33m=\u001b[0m \u001b[0ml\u001b[0m \u001b[1;33m**\u001b[0m\u001b[1;36m2\u001b[0m \u001b[1;33m-\u001b[0m\u001b[1;36m2\u001b[0m\u001b[1;33m*\u001b[0m\u001b[0ml\u001b[0m \u001b[1;33m-\u001b[0m \u001b[1;36m3\u001b[0m\u001b[1;33m\u001b[0m\u001b[1;33m\u001b[0m\u001b[0m\n\u001b[0;32m      5\u001b[0m \u001b[0ma\u001b[0m\u001b[1;33m=\u001b[0m\u001b[1;36m1\u001b[0m\u001b[1;33m\u001b[0m\u001b[1;33m\u001b[0m\u001b[0m\n",
      "\u001b[1;31mTypeError\u001b[0m: 'DeprecatedImportModule' object is not callable"
     ]
    }
   ],
   "source": [
    "#  |A-λ*I|=0\n",
    "# |A-λ*I|=|{{1-λ, 4}, {1, 1-λ}}|\n",
    "l = symbol('l')\n",
    "discr = l **2 -2*l - 3\n",
    "a=1\n",
    "b=-2\n",
    "c=-3\n",
    "discr_ =16"
   ]
  },
  {
   "cell_type": "markdown",
   "metadata": {},
   "source": [
    "#### собственный вектор\n",
    "|A-λ*I|=0 = |{{1-λ, 4}, {1, 1-λ}}|\n",
    "\n",
    "|A-λ*I|=|{{1-λ, 4}, {1, 1-λ}}|=λ^2-2*λ-3\n",
    "\n",
    "a=1, b=-2, c=-3\n",
    "\n",
    "discr = b**2 - 4ac = (-2)**2 - 4*(-3) = 16\n",
    "\n",
    "x1= 2 +4/2 = 3\n",
    "\n",
    "x2= 2-4/2 = -1"
   ]
  },
  {
   "cell_type": "markdown",
   "metadata": {},
   "source": [
    "#### собственные значения\n",
    "для х1=3\n",
    "\n",
    "A = ({1-3, 1}, {4, 1-3})\n",
    "\n",
    "x1-2*x2=0\n",
    "\n",
    "x1=2*x2\n",
    "\n",
    "x2=x2=2\n",
    "\n",
    "для х2=-1\n",
    "\n",
    "A = {1-(-1), 1}, {4, 1-(-1)}\n",
    "\n",
    "x1+2*x2=0\n",
    "\n",
    "x1=-2*x2\n",
    "\n",
    "x2=x2=1\n",
    "\n",
    "x1=-2"
   ]
  },
  {
   "cell_type": "code",
   "execution_count": null,
   "metadata": {},
   "outputs": [],
   "source": []
  }
 ],
 "metadata": {
  "kernelspec": {
   "display_name": "Python 3",
   "language": "python",
   "name": "python3"
  },
  "language_info": {
   "codemirror_mode": {
    "name": "ipython",
    "version": 3
   },
   "file_extension": ".py",
   "mimetype": "text/x-python",
   "name": "python",
   "nbconvert_exporter": "python",
   "pygments_lexer": "ipython3",
   "version": "3.8.3"
  }
 },
 "nbformat": 4,
 "nbformat_minor": 4
}
